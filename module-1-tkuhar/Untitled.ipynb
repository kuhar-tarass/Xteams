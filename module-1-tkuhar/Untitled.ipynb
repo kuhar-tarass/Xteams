{
 "cells": [
  {
   "cell_type": "code",
   "execution_count": 1,
   "metadata": {},
   "outputs": [],
   "source": [
    "import secrets\n",
    "import hashlib\n",
    "import base64\n",
    "import ecdsa\n",
    "from sys import byteorder\n"
   ]
  },
  {
   "cell_type": "code",
   "execution_count": null,
   "metadata": {},
   "outputs": [],
   "source": [
    "class k_box:\n",
    "    def __init__(self, file = 0, string = 0 ):\n",
    "        self.__priv_key__ = 0\n",
    "        self.__pub_key__ = 0\n",
    "        if file != 0:\n",
    "            with open(file_name,'r') as file:\n",
    "                key = file.read()\n",
    "                assert len(key) == 64 , \"Bad len \"\n",
    "                file.close()\n",
    "                "
   ]
  },
  {
   "cell_type": "code",
   "execution_count": null,
   "metadata": {},
   "outputs": [],
   "source": [
    "    def get_secret_key(self):\n",
    "        if self.__priv_key__ == 0:\n",
    "            self.__priv_key__ = secrets.randbits(256).to_bytes(32,byteorder=byteorder)\n",
    "        return self.__priv_key__"
   ]
  },
  {
   "cell_type": "code",
   "execution_count": null,
   "metadata": {},
   "outputs": [],
   "source": []
  },
  {
   "cell_type": "code",
   "execution_count": null,
   "metadata": {},
   "outputs": [],
   "source": []
  },
  {
   "cell_type": "code",
   "execution_count": 2,
   "metadata": {},
   "outputs": [],
   "source": [
    "def base58_encode(n):\n",
    "    alphabet = '123456789ABCDEFGHJKLMNPQRSTUVWXYZabcdefghijkmnopqrstuvwxyz'\n",
    "    b58_string = \"\"\n",
    "    # Get the number of leading zeros\n",
    "    leading_zeros = len(n.hex()) - len(n.hex().lstrip('0'))\n",
    "    # Convert hex to decimal\n",
    "#     address_int = int(address_hex, 16)\n",
    "    address_int = int.from_bytes(n,byteorder=\"big\")\n",
    "    # Append digits to the start of string\n",
    "    while address_int > 0:\n",
    "        digit = address_int % 58\n",
    "        digit_char = alphabet[digit]\n",
    "        b58_string = digit_char + b58_string\n",
    "        address_int //= 58\n",
    "    # Add ‘1’ for each 2 leading zeros\n",
    "    ones = leading_zeros // 2\n",
    "    for one in range(ones):\n",
    "        b58_string = '1' + b58_string\n",
    "    return b58_string"
   ]
  },
  {
   "cell_type": "code",
   "execution_count": 3,
   "metadata": {},
   "outputs": [],
   "source": [
    "def get_secret_key():\n",
    "    return secrets.randbits(256).to_bytes(32,byteorder=byteorder)\n"
   ]
  },
  {
   "cell_type": "code",
   "execution_count": 4,
   "metadata": {},
   "outputs": [],
   "source": [
    "def priv_key_to_WIF(file_name):\n",
    "    with open(file_name,'r') as file:\n",
    "        key = file.read()\n",
    "        file.close()\n",
    "    key = \"80\" + key\n",
    "    key_b = bytes.fromhex(key)\n",
    "    sha_key1 = hashlib.sha256(hashlib.sha256(key_b).digest()).digest()\n",
    "    key_b = key_b + sha_key1[0:4]\n",
    "#     b = bytes.fromhex(key)\n",
    "    return base58_encode(b)\n",
    "\n"
   ]
  },
  {
   "cell_type": "code",
   "execution_count": 5,
   "metadata": {},
   "outputs": [],
   "source": [
    "def get_public_key(priv_key:bytes):\n",
    "    pub_key = ecdsa.SigningKey.from_string(priv_key, curve=ecdsa.SECP256k1).verifying_key\n",
    "    return (0x04.to_bytes(1,byteorder=byteorder) + pub_key.to_string())\n",
    "\n"
   ]
  },
  {
   "cell_type": "code",
   "execution_count": 6,
   "metadata": {},
   "outputs": [],
   "source": [
    "def get_public_key_compresed(pub_key:bytes):\n",
    "    return (0x03.to_bytes(1,byteorder=byteorder) if pub_key[-1] % 2 else 0x02.to_bytes(1,byteorder=byteorder)) + pub_key[1:33]"
   ]
  },
  {
   "cell_type": "code",
   "execution_count": 7,
   "metadata": {},
   "outputs": [],
   "source": [
    "\n",
    "def encrypt_pub_key(pub_key:bytes):\n",
    "    sha = hashlib.sha256(pub_key).digest()\n",
    "#     print (\"__sha256__  \" + sha.hex())\n",
    "    result = hashlib.new(name='ripemd160', data=sha).digest()    \n",
    "#     print (\"__ripemd160__  \" + result.hex())\n",
    "    return (result)\n"
   ]
  },
  {
   "cell_type": "code",
   "execution_count": 8,
   "metadata": {},
   "outputs": [],
   "source": [
    "def get_address(priv_key:bytes):\n",
    "    pub_key = get_public_key(priv_key)\n",
    "    print(f\"public key___ {pub_key.hex()}\")\n",
    "    e_pub = encrypt_pub_key(pub_key)\n",
    "#     print(e_pub.hex())\n",
    "    main_net_key = 0x00.to_bytes(1,byteorder=byteorder) + e_pub\n",
    "    check_sum = hashlib.sha256(hashlib.sha256(main_net_key).digest()).digest()[:4]\n",
    "    print(check_sum.hex())\n",
    "    hex_addr = main_net_key + check_sum\n",
    "#     print(hex_addr.hex())\n",
    "    return base58_encode(hex_addr)\n"
   ]
  },
  {
   "cell_type": "code",
   "execution_count": 9,
   "metadata": {
    "scrolled": false
   },
   "outputs": [
    {
     "name": "stdout",
     "output_type": "stream",
     "text": [
      "public key___ 0450863ad64a87ae8a2fe83c1af1a8403cb53f53e486d8511dad8a04887e5b23522cd470243453a299fa9e77237716103abc11a1df38855ed6f2ee187e9c582ba6\n",
      "d61967f6\n",
      "16UwLL9Risc3QfPqBUvKofHmBQ7wMtjvM\n"
     ]
    }
   ],
   "source": [
    "def main():\n",
    "    key = bytes.fromhex(\"18E14A7B6A307F426A94F8114701E7C8E774E7F9A47E2C2035DB29A206321725\")\n",
    "    addr = get_address(key)\n",
    "    print(addr)\n",
    "\n",
    "if __name__ == \"__main__\":\n",
    "    main()"
   ]
  },
  {
   "cell_type": "code",
   "execution_count": 10,
   "metadata": {},
   "outputs": [],
   "source": [
    "# data = b'123'\n",
    "# a = hashlib.new(name='ripemd160', data=data).digest() \n",
    "# print(data)\n",
    "# print(a.hex())"
   ]
  },
  {
   "cell_type": "code",
   "execution_count": null,
   "metadata": {},
   "outputs": [],
   "source": []
  }
 ],
 "metadata": {
  "kernelspec": {
   "display_name": "Python 3",
   "language": "python",
   "name": "python3"
  },
  "language_info": {
   "codemirror_mode": {
    "name": "ipython",
    "version": 3
   },
   "file_extension": ".py",
   "mimetype": "text/x-python",
   "name": "python",
   "nbconvert_exporter": "python",
   "pygments_lexer": "ipython3",
   "version": "3.7.2"
  }
 },
 "nbformat": 4,
 "nbformat_minor": 2
}
